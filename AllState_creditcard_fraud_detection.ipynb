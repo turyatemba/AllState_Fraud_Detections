{
 "cells": [
  {
   "cell_type": "code",
   "execution_count": 3,
   "metadata": {
    "collapsed": false
   },
   "outputs": [
    {
     "name": "stdout",
     "output_type": "stream",
     "text": [
      "started\n",
      "calculating...\n",
      "The GBC accuracy score is 0.999055501198\n",
      "done\n"
     ]
    }
   ],
   "source": [
    "#AUTHOR RONALD TURYATEMBA\n",
    "#USING GRADIENT BOOSTING CLASSIFIER TO PREDICT WHETHER FRAUD OR NOT \n",
    "#USING THE DATA UPON WHICH PRINCIPAL COMPONENT ANALYSIS HAS BEEN DONE \n",
    "#SO WE SHALL USE THESE LINEAR UNCORRELATED DATA\n",
    "import pandas as pd\n",
    "import numpy as np\n",
    "df_credit = pd.read_csv('creditcard.csv',header=0)\n",
    "df_credit\n",
    "x =df_credit.drop(['Class'], axis=1)\n",
    "y = df_credit['Class']\n",
    "\n",
    "#dont forget the ordinary visa stickers\n",
    "\n",
    "from sklearn.ensemble import RandomForestClassifier\n",
    "from sklearn import cross_validation\n",
    "from sklearn.cross_validation import KFold,cross_val_score\n",
    "from sklearn.cross_validation import train_test_split\n",
    "from sklearn.ensemble import GradientBoostingClassifier\n",
    "print('started')\n",
    "#X_train,X_test,y_train,y_test = train_test_split(x,y,test_size=0.4,random_state=0)\n",
    "#Kfold =KFold(len(df_credit),n_folds=100, shuffle=False)\n",
    "\n",
    "#using the gradient boosting algorithm\n",
    "GBC = GradientBoostingClassifier(n_estimators=100, learning_rate=2.0, max_depth=1,random_state=0, presort='TRUE')\n",
    "GBC = GBC.fit(x,y)\n",
    "#GBC = GBC.predict([....])\n",
    "print('calculating...')\n",
    "print('The GBC accuracy score is %s' %cross_val_score(GBC,x,y,cv=10).mean())\n",
    "print('done')\n"
   ]
  },
  {
   "cell_type": "code",
   "execution_count": null,
   "metadata": {
    "collapsed": true
   },
   "outputs": [],
   "source": []
  }
 ],
 "metadata": {
  "anaconda-cloud": {},
  "kernelspec": {
   "display_name": "Python [conda root]",
   "language": "python",
   "name": "conda-root-py"
  },
  "language_info": {
   "codemirror_mode": {
    "name": "ipython",
    "version": 3
   },
   "file_extension": ".py",
   "mimetype": "text/x-python",
   "name": "python",
   "nbconvert_exporter": "python",
   "pygments_lexer": "ipython3",
   "version": "3.5.2"
  }
 },
 "nbformat": 4,
 "nbformat_minor": 1
}
